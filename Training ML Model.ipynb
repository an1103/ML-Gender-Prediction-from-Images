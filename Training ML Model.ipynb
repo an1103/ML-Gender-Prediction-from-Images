{
 "cells": [
  {
   "cell_type": "code",
   "execution_count": 1,
   "id": "2d0f6af6",
   "metadata": {},
   "outputs": [],
   "source": [
    "import warnings \n",
    "warnings.filterwarnings('ignore')\n",
    "import numpy as np\n",
    "import matplotlib.pyplot as plt\n",
    "%matplotlib inline\n",
    "from glob import glob\n",
    "from PIL import Image\n",
    "import pandas as pd"
   ]
  },
  {
   "cell_type": "code",
   "execution_count": 2,
   "id": "43c00eb7",
   "metadata": {},
   "outputs": [
    {
     "data": {
      "text/plain": [
       "['arr_0', 'arr_1', 'arr_2']"
      ]
     },
     "execution_count": 2,
     "metadata": {},
     "output_type": "execute_result"
    }
   ],
   "source": [
    "data = np.load('./data/data_pca_50_y_Xmean.pickle.npz')\n",
    "data.files"
   ]
  },
  {
   "cell_type": "code",
   "execution_count": 3,
   "id": "16acccd4",
   "metadata": {},
   "outputs": [],
   "source": [
    "X = data['arr_0']\n",
    "y = data['arr_1']\n",
    "Xmean = data['arr_2']"
   ]
  },
  {
   "cell_type": "code",
   "execution_count": 4,
   "id": "4277f3bf",
   "metadata": {},
   "outputs": [
    {
     "data": {
      "text/plain": [
       "((5826, 50), (1457, 50), (5826,), (1457,))"
      ]
     },
     "execution_count": 4,
     "metadata": {},
     "output_type": "execute_result"
    }
   ],
   "source": [
    "#split into training and test set\n",
    "from sklearn.model_selection import train_test_split\n",
    "X_train, X_test, y_train, y_test = train_test_split(X, y, test_size=0.2, stratify =y)\n",
    "#stratify -> train and test sets have almost same ratio for diff y like approx same male:female ratio\n",
    "\n",
    "X_train.shape, X_test.shape, y_train.shape, y_test.shape"
   ]
  },
  {
   "cell_type": "markdown",
   "id": "f73c5f77",
   "metadata": {},
   "source": [
    "# Training"
   ]
  },
  {
   "cell_type": "code",
   "execution_count": 5,
   "id": "a97083be",
   "metadata": {},
   "outputs": [
    {
     "data": {
      "text/plain": [
       "SVC(gamma=0.01, probability=True)"
      ]
     },
     "execution_count": 5,
     "metadata": {},
     "output_type": "execute_result"
    }
   ],
   "source": [
    "from sklearn.svm import SVC\n",
    "svc = SVC(kernel ='rbf', gamma = 0.01, probability=True)\n",
    "svc.fit(X_train, y_train)"
   ]
  },
  {
   "cell_type": "code",
   "execution_count": 6,
   "id": "3e4dac7f",
   "metadata": {},
   "outputs": [
    {
     "data": {
      "text/plain": [
       "0.8403707518022657"
      ]
     },
     "execution_count": 6,
     "metadata": {},
     "output_type": "execute_result"
    }
   ],
   "source": [
    "svc.score(X_train, y_train)"
   ]
  },
  {
   "cell_type": "code",
   "execution_count": 7,
   "id": "4b41085e",
   "metadata": {},
   "outputs": [
    {
     "data": {
      "text/plain": [
       "0.787920384351407"
      ]
     },
     "execution_count": 7,
     "metadata": {},
     "output_type": "execute_result"
    }
   ],
   "source": [
    "svc.score(X_test, y_test)"
   ]
  },
  {
   "cell_type": "markdown",
   "id": "ad007415",
   "metadata": {},
   "source": [
    "# Evaluation"
   ]
  },
  {
   "cell_type": "code",
   "execution_count": 8,
   "id": "22b97fac",
   "metadata": {},
   "outputs": [],
   "source": [
    "y_pred = svc.predict(X_test)"
   ]
  },
  {
   "cell_type": "code",
   "execution_count": 9,
   "id": "5c8affde",
   "metadata": {
    "scrolled": false
   },
   "outputs": [
    {
     "name": "stdout",
     "output_type": "stream",
     "text": [
      "[[447 175]\n",
      " [134 701]]\n"
     ]
    }
   ],
   "source": [
    "from sklearn.metrics import confusion_matrix, classification_report, cohen_kappa_score\n",
    "cm = confusion_matrix(y_test, y_pred)\n",
    "print(cm)"
   ]
  },
  {
   "cell_type": "code",
   "execution_count": 10,
   "id": "05551c2a",
   "metadata": {},
   "outputs": [],
   "source": [
    "#classification report\n",
    "cr = classification_report(y_test, y_pred, target_names= ['male', 'female'], output_dict = True)"
   ]
  },
  {
   "cell_type": "code",
   "execution_count": 11,
   "id": "1479da4a",
   "metadata": {
    "scrolled": true
   },
   "outputs": [
    {
     "data": {
      "text/html": [
       "<div>\n",
       "<style scoped>\n",
       "    .dataframe tbody tr th:only-of-type {\n",
       "        vertical-align: middle;\n",
       "    }\n",
       "\n",
       "    .dataframe tbody tr th {\n",
       "        vertical-align: top;\n",
       "    }\n",
       "\n",
       "    .dataframe thead th {\n",
       "        text-align: right;\n",
       "    }\n",
       "</style>\n",
       "<table border=\"1\" class=\"dataframe\">\n",
       "  <thead>\n",
       "    <tr style=\"text-align: right;\">\n",
       "      <th></th>\n",
       "      <th>precision</th>\n",
       "      <th>recall</th>\n",
       "      <th>f1-score</th>\n",
       "      <th>support</th>\n",
       "    </tr>\n",
       "  </thead>\n",
       "  <tbody>\n",
       "    <tr>\n",
       "      <th>male</th>\n",
       "      <td>0.769363</td>\n",
       "      <td>0.718650</td>\n",
       "      <td>0.743142</td>\n",
       "      <td>622.00000</td>\n",
       "    </tr>\n",
       "    <tr>\n",
       "      <th>female</th>\n",
       "      <td>0.800228</td>\n",
       "      <td>0.839521</td>\n",
       "      <td>0.819404</td>\n",
       "      <td>835.00000</td>\n",
       "    </tr>\n",
       "    <tr>\n",
       "      <th>accuracy</th>\n",
       "      <td>0.787920</td>\n",
       "      <td>0.787920</td>\n",
       "      <td>0.787920</td>\n",
       "      <td>0.78792</td>\n",
       "    </tr>\n",
       "    <tr>\n",
       "      <th>macro avg</th>\n",
       "      <td>0.784796</td>\n",
       "      <td>0.779085</td>\n",
       "      <td>0.781273</td>\n",
       "      <td>1457.00000</td>\n",
       "    </tr>\n",
       "    <tr>\n",
       "      <th>weighted avg</th>\n",
       "      <td>0.787052</td>\n",
       "      <td>0.787920</td>\n",
       "      <td>0.786847</td>\n",
       "      <td>1457.00000</td>\n",
       "    </tr>\n",
       "  </tbody>\n",
       "</table>\n",
       "</div>"
      ],
      "text/plain": [
       "              precision    recall  f1-score     support\n",
       "male           0.769363  0.718650  0.743142   622.00000\n",
       "female         0.800228  0.839521  0.819404   835.00000\n",
       "accuracy       0.787920  0.787920  0.787920     0.78792\n",
       "macro avg      0.784796  0.779085  0.781273  1457.00000\n",
       "weighted avg   0.787052  0.787920  0.786847  1457.00000"
      ]
     },
     "execution_count": 11,
     "metadata": {},
     "output_type": "execute_result"
    }
   ],
   "source": [
    "pd.DataFrame(cr).T"
   ]
  },
  {
   "cell_type": "markdown",
   "id": "1a719534",
   "metadata": {},
   "source": [
    "# Hyper Parameter Tuning "
   ]
  },
  {
   "cell_type": "code",
   "execution_count": 12,
   "id": "a3e1a328",
   "metadata": {},
   "outputs": [],
   "source": [
    "svc_tune = SVC()"
   ]
  },
  {
   "cell_type": "code",
   "execution_count": 13,
   "id": "45dc5fb7",
   "metadata": {},
   "outputs": [],
   "source": [
    "from sklearn.model_selection import GridSearchCV"
   ]
  },
  {
   "cell_type": "code",
   "execution_count": 14,
   "id": "0c148b57",
   "metadata": {},
   "outputs": [],
   "source": [
    "param_grid = {'C': [1, 10, 20 , 30, 50, 100],\n",
    "              'kernel': ['rbf'],\n",
    "              'gamma': [0.01, 0.001, 0.05, 0.1, 0.002, 0.005],\n",
    "              }\n",
    "              "
   ]
  },
  {
   "cell_type": "code",
   "execution_count": 15,
   "id": "afa2706c",
   "metadata": {},
   "outputs": [
    {
     "name": "stdout",
     "output_type": "stream",
     "text": [
      "Fitting 5 folds for each of 36 candidates, totalling 180 fits\n"
     ]
    },
    {
     "data": {
      "text/plain": [
       "GridSearchCV(cv=5, estimator=SVC(),\n",
       "             param_grid={'C': [1, 10, 20, 30, 50, 100],\n",
       "                         'gamma': [0.01, 0.001, 0.05, 0.1, 0.002, 0.005],\n",
       "                         'kernel': ['rbf']},\n",
       "             scoring='accuracy', verbose=1)"
      ]
     },
     "execution_count": 15,
     "metadata": {},
     "output_type": "execute_result"
    }
   ],
   "source": [
    "model_grid = GridSearchCV(svc_tune, param_grid =param_grid, scoring='accuracy', cv= 5, verbose=1)\n",
    "model_grid.fit(X, y)"
   ]
  },
  {
   "cell_type": "code",
   "execution_count": 16,
   "id": "9dff9434",
   "metadata": {},
   "outputs": [
    {
     "data": {
      "text/plain": [
       "{'C': 1, 'gamma': 0.05, 'kernel': 'rbf'}"
      ]
     },
     "execution_count": 16,
     "metadata": {},
     "output_type": "execute_result"
    }
   ],
   "source": [
    "model_grid.best_params_"
   ]
  },
  {
   "cell_type": "code",
   "execution_count": 17,
   "id": "a8e93262",
   "metadata": {},
   "outputs": [
    {
     "data": {
      "text/plain": [
       "0.8204044325612616"
      ]
     },
     "execution_count": 17,
     "metadata": {},
     "output_type": "execute_result"
    }
   ],
   "source": [
    "model_grid.best_score_"
   ]
  },
  {
   "cell_type": "code",
   "execution_count": 18,
   "id": "be13f763",
   "metadata": {},
   "outputs": [
    {
     "data": {
      "text/plain": [
       "0.814687714481812"
      ]
     },
     "execution_count": 18,
     "metadata": {},
     "output_type": "execute_result"
    }
   ],
   "source": [
    "#with best parameters\n",
    "svc = SVC(kernel ='rbf', gamma = 0.05, probability=True)\n",
    "svc.fit(X_train, y_train)\n",
    "svc.score(X_test, y_test)"
   ]
  },
  {
   "cell_type": "code",
   "execution_count": 19,
   "id": "ad75263e",
   "metadata": {},
   "outputs": [],
   "source": [
    "y_pred = svc.predict(X_test)"
   ]
  },
  {
   "cell_type": "code",
   "execution_count": 20,
   "id": "b8ea82da",
   "metadata": {
    "scrolled": true
   },
   "outputs": [
    {
     "name": "stdout",
     "output_type": "stream",
     "text": [
      "[[457 165]\n",
      " [105 730]]\n"
     ]
    }
   ],
   "source": [
    "cm = confusion_matrix(y_test, y_pred)\n",
    "print(cm)"
   ]
  },
  {
   "cell_type": "code",
   "execution_count": 21,
   "id": "2a730b96",
   "metadata": {},
   "outputs": [],
   "source": [
    "#classification report\n",
    "cr = classification_report(y_test, y_pred, target_names= ['male', 'female'], output_dict = True)"
   ]
  },
  {
   "cell_type": "code",
   "execution_count": 22,
   "id": "6a71206b",
   "metadata": {},
   "outputs": [
    {
     "data": {
      "text/html": [
       "<div>\n",
       "<style scoped>\n",
       "    .dataframe tbody tr th:only-of-type {\n",
       "        vertical-align: middle;\n",
       "    }\n",
       "\n",
       "    .dataframe tbody tr th {\n",
       "        vertical-align: top;\n",
       "    }\n",
       "\n",
       "    .dataframe thead th {\n",
       "        text-align: right;\n",
       "    }\n",
       "</style>\n",
       "<table border=\"1\" class=\"dataframe\">\n",
       "  <thead>\n",
       "    <tr style=\"text-align: right;\">\n",
       "      <th></th>\n",
       "      <th>precision</th>\n",
       "      <th>recall</th>\n",
       "      <th>f1-score</th>\n",
       "      <th>support</th>\n",
       "    </tr>\n",
       "  </thead>\n",
       "  <tbody>\n",
       "    <tr>\n",
       "      <th>male</th>\n",
       "      <td>0.813167</td>\n",
       "      <td>0.734727</td>\n",
       "      <td>0.771959</td>\n",
       "      <td>622.000000</td>\n",
       "    </tr>\n",
       "    <tr>\n",
       "      <th>female</th>\n",
       "      <td>0.815642</td>\n",
       "      <td>0.874251</td>\n",
       "      <td>0.843931</td>\n",
       "      <td>835.000000</td>\n",
       "    </tr>\n",
       "    <tr>\n",
       "      <th>accuracy</th>\n",
       "      <td>0.814688</td>\n",
       "      <td>0.814688</td>\n",
       "      <td>0.814688</td>\n",
       "      <td>0.814688</td>\n",
       "    </tr>\n",
       "    <tr>\n",
       "      <th>macro avg</th>\n",
       "      <td>0.814405</td>\n",
       "      <td>0.804489</td>\n",
       "      <td>0.807945</td>\n",
       "      <td>1457.000000</td>\n",
       "    </tr>\n",
       "    <tr>\n",
       "      <th>weighted avg</th>\n",
       "      <td>0.814586</td>\n",
       "      <td>0.814688</td>\n",
       "      <td>0.813206</td>\n",
       "      <td>1457.000000</td>\n",
       "    </tr>\n",
       "  </tbody>\n",
       "</table>\n",
       "</div>"
      ],
      "text/plain": [
       "              precision    recall  f1-score      support\n",
       "male           0.813167  0.734727  0.771959   622.000000\n",
       "female         0.815642  0.874251  0.843931   835.000000\n",
       "accuracy       0.814688  0.814688  0.814688     0.814688\n",
       "macro avg      0.814405  0.804489  0.807945  1457.000000\n",
       "weighted avg   0.814586  0.814688  0.813206  1457.000000"
      ]
     },
     "execution_count": 22,
     "metadata": {},
     "output_type": "execute_result"
    }
   ],
   "source": [
    "pd.DataFrame(cr).T"
   ]
  },
  {
   "cell_type": "code",
   "execution_count": 23,
   "id": "38dc0f9d",
   "metadata": {},
   "outputs": [],
   "source": [
    "#save model\n",
    "import pickle \n",
    "pickle.dump(svc, open('./model/model_svm.pickle','wb'))\n",
    "pickle.dump(Xmean, open('./model/mean_preprocess.pickle', 'wb'))"
   ]
  },
  {
   "cell_type": "code",
   "execution_count": null,
   "id": "f4db861f",
   "metadata": {},
   "outputs": [],
   "source": []
  }
 ],
 "metadata": {
  "kernelspec": {
   "display_name": "Python 3 (ipykernel)",
   "language": "python",
   "name": "python3"
  },
  "language_info": {
   "codemirror_mode": {
    "name": "ipython",
    "version": 3
   },
   "file_extension": ".py",
   "mimetype": "text/x-python",
   "name": "python",
   "nbconvert_exporter": "python",
   "pygments_lexer": "ipython3",
   "version": "3.8.8"
  }
 },
 "nbformat": 4,
 "nbformat_minor": 5
}
