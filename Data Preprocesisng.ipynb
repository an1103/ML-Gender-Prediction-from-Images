{
 "cells": [
  {
   "cell_type": "code",
   "execution_count": 1,
   "id": "fd23ba87",
   "metadata": {},
   "outputs": [],
   "source": [
    "import numpy as np\n",
    "import matplotlib.pyplot as plt\n",
    "import cv2\n",
    "from PIL import Image\n",
    "import pandas as pd\n",
    "%matplotlib inline"
   ]
  },
  {
   "cell_type": "code",
   "execution_count": 2,
   "id": "5a97a05d",
   "metadata": {},
   "outputs": [],
   "source": [
    "import pickle\n"
   ]
  },
  {
   "cell_type": "code",
   "execution_count": 4,
   "id": "6a9f21f3",
   "metadata": {},
   "outputs": [],
   "source": [
    "#load pickle data\n",
    "df = pickle.load(open('./data/dataframe_images_100_100.pickle', 'rb'))"
   ]
  },
  {
   "cell_type": "code",
   "execution_count": 5,
   "id": "a287b25a",
   "metadata": {},
   "outputs": [
    {
     "name": "stdout",
     "output_type": "stream",
     "text": [
      "<class 'pandas.core.frame.DataFrame'>\n",
      "Int64Index: 7283 entries, 0 to 9733\n",
      "Columns: 10001 entries, gender to 9999\n",
      "dtypes: object(1), uint8(10000)\n",
      "memory usage: 69.6+ MB\n"
     ]
    }
   ],
   "source": [
    "df.info()"
   ]
  },
  {
   "cell_type": "code",
   "execution_count": 8,
   "id": "d578b3ce",
   "metadata": {},
   "outputs": [
    {
     "data": {
      "text/plain": [
       "gender    0\n",
       "0         0\n",
       "1         0\n",
       "2         0\n",
       "3         0\n",
       "         ..\n",
       "9995      0\n",
       "9996      0\n",
       "9997      0\n",
       "9998      0\n",
       "9999      0\n",
       "Length: 10001, dtype: int64"
      ]
     },
     "execution_count": 8,
     "metadata": {},
     "output_type": "execute_result"
    }
   ],
   "source": [
    "#checking for missing vales\n",
    "df.isnull().sum()"
   ]
  },
  {
   "cell_type": "markdown",
   "id": "25459409",
   "metadata": {},
   "source": [
    "# Data preprocessing\n",
    "-Missing vales: no need \n",
    "\n",
    "-Normalisation(min-max scaling)"
   ]
  },
  {
   "cell_type": "code",
   "execution_count": 9,
   "id": "2c4be0d7",
   "metadata": {},
   "outputs": [],
   "source": [
    "#spliting\n",
    "X = df.iloc[:, 1:].values\n",
    "y = df.iloc[:, 0].values"
   ]
  },
  {
   "cell_type": "code",
   "execution_count": 16,
   "id": "74926ce6",
   "metadata": {},
   "outputs": [
    {
     "data": {
      "text/plain": [
       "(7283, 10000)"
      ]
     },
     "execution_count": 16,
     "metadata": {},
     "output_type": "execute_result"
    }
   ],
   "source": [
    "X.shape"
   ]
  },
  {
   "cell_type": "code",
   "execution_count": 10,
   "id": "ffd8f859",
   "metadata": {},
   "outputs": [
    {
     "data": {
      "text/plain": [
       "(0, 255)"
      ]
     },
     "execution_count": 10,
     "metadata": {},
     "output_type": "execute_result"
    }
   ],
   "source": [
    "#scaling \n",
    "X.min(), X.max()"
   ]
  },
  {
   "cell_type": "code",
   "execution_count": 11,
   "id": "0d719716",
   "metadata": {},
   "outputs": [],
   "source": [
    "Xnorm = (X - 0) / (X.max() - 0)"
   ]
  },
  {
   "cell_type": "code",
   "execution_count": 12,
   "id": "4674923d",
   "metadata": {},
   "outputs": [
    {
     "data": {
      "text/plain": [
       "array([[0.11372549, 0.11372549, 0.11372549, ..., 0.4       , 0.40784314,\n",
       "        0.26666667],\n",
       "       [0.11372549, 0.11372549, 0.11372549, ..., 0.11372549, 0.11372549,\n",
       "        0.11372549],\n",
       "       [0.11372549, 0.11372549, 0.11372549, ..., 0.12156863, 0.11764706,\n",
       "        0.11764706],\n",
       "       ...,\n",
       "       [0.11372549, 0.11372549, 0.11372549, ..., 0.18039216, 0.18039216,\n",
       "        0.14117647],\n",
       "       [0.11372549, 0.11372549, 0.11372549, ..., 0.05882353, 0.11372549,\n",
       "        0.36078431],\n",
       "       [0.10980392, 0.09019608, 0.09019608, ..., 0.09411765, 0.08235294,\n",
       "        0.09411765]])"
      ]
     },
     "execution_count": 12,
     "metadata": {},
     "output_type": "execute_result"
    }
   ],
   "source": [
    "Xnorm"
   ]
  },
  {
   "cell_type": "code",
   "execution_count": 14,
   "id": "cd6b88df",
   "metadata": {},
   "outputs": [
    {
     "data": {
      "text/plain": [
       "(7283, 10000)"
      ]
     },
     "execution_count": 14,
     "metadata": {},
     "output_type": "execute_result"
    }
   ],
   "source": [
    "Xnorm.shape"
   ]
  },
  {
   "cell_type": "code",
   "execution_count": 18,
   "id": "294b30a2",
   "metadata": {},
   "outputs": [],
   "source": [
    "#female = 1, male = 0\n",
    "y = np.where(y=='female', 1, 0)"
   ]
  },
  {
   "cell_type": "code",
   "execution_count": 19,
   "id": "e8f341a1",
   "metadata": {},
   "outputs": [
    {
     "data": {
      "text/plain": [
       "array([1, 1, 1, ..., 0, 0, 0])"
      ]
     },
     "execution_count": 19,
     "metadata": {},
     "output_type": "execute_result"
    }
   ],
   "source": [
    "y"
   ]
  },
  {
   "cell_type": "code",
   "execution_count": 23,
   "id": "8c0d60e2",
   "metadata": {},
   "outputs": [],
   "source": [
    "#saving Xnorm and y in numpy zip\n",
    "np.savez('./data/dataframe_100_100_norm.npz', Xnorm, y)"
   ]
  },
  {
   "cell_type": "code",
   "execution_count": null,
   "id": "f5dfc39f",
   "metadata": {},
   "outputs": [],
   "source": []
  }
 ],
 "metadata": {
  "kernelspec": {
   "display_name": "Python 3 (ipykernel)",
   "language": "python",
   "name": "python3"
  },
  "language_info": {
   "codemirror_mode": {
    "name": "ipython",
    "version": 3
   },
   "file_extension": ".py",
   "mimetype": "text/x-python",
   "name": "python",
   "nbconvert_exporter": "python",
   "pygments_lexer": "ipython3",
   "version": "3.8.8"
  }
 },
 "nbformat": 4,
 "nbformat_minor": 5
}
